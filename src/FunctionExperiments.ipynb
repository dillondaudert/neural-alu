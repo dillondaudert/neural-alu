{
 "cells": [
  {
   "cell_type": "markdown",
   "metadata": {},
   "source": [
    "# Evaluating the NAC and NALU for learning basic functions"
   ]
  },
  {
   "cell_type": "code",
   "execution_count": 1,
   "metadata": {},
   "outputs": [],
   "source": [
    "using Flux\n",
    "include(\"nalu.jl\")\n",
    "include(\"data.jl\");"
   ]
  },
  {
   "cell_type": "code",
   "execution_count": 2,
   "metadata": {},
   "outputs": [
    {
     "data": {
      "text/plain": [
       "do_experiment (generic function with 1 method)"
      ]
     },
     "execution_count": 2,
     "metadata": {},
     "output_type": "execute_result"
    }
   ],
   "source": [
    "loss(m, x, y) = sum((m(x) .- y).^2)\n",
    "val(m, val_data) = sum((loss(m, x, y) for (x, y) in val_data))/length(val_data)\n",
    "\n",
    "function do_experiment(f)\n",
    "    train₊, interp₊, extrap₊, _ = gen_data(f, 10000, 100, 10, 100)\n",
    "    nac₊ = Chain(NAC(100, 2), NAC(2, 1))\n",
    "    nalu₊ = Chain(NALU(100, 2), NALU(2, 1));\n",
    "\n",
    "    # train NAC\n",
    "    Flux.train!((x, y) -> loss(nac₊, x, y), train₊, SGD(params(nac₊), 0.001))\n",
    "    @show val(nac₊, interp₊)\n",
    "    @show val(nac₊, extrap₊)\n",
    "\n",
    "    # train NALU\n",
    "    Flux.train!((x, y) -> loss(nalu₊, x, y), train₊, SGD(params(nalu₊), 0.001))\n",
    "    @show val(nalu₊, interp₊)\n",
    "    @show val(nalu₊, extrap₊)\n",
    "end"
   ]
  },
  {
   "cell_type": "markdown",
   "metadata": {},
   "source": [
    "## Addition"
   ]
  },
  {
   "cell_type": "code",
   "execution_count": 3,
   "metadata": {},
   "outputs": [
    {
     "name": "stdout",
     "output_type": "stream",
     "text": [
      "val(nac₊, interp₊) = 2.6058289440365295e-28 (tracked)\n",
      "val(nac₊, extrap₊) = 2.7799138022460934e-26 (tracked)\n",
      "val(nalu₊, interp₊) = 3364.9030834830737 (tracked)\n",
      "val(nalu₊, extrap₊) = 335217.6585132444 (tracked)\n"
     ]
    }
   ],
   "source": [
    "do_experiment(+);"
   ]
  },
  {
   "cell_type": "markdown",
   "metadata": {},
   "source": [
    "## Subtraction"
   ]
  },
  {
   "cell_type": "code",
   "execution_count": 4,
   "metadata": {},
   "outputs": [
    {
     "name": "stdout",
     "output_type": "stream",
     "text": [
      "val(nac₊, interp₊) = 2.884641908595823e-28 (tracked)\n",
      "val(nac₊, extrap₊) = 2.7973425647505424e-26 (tracked)\n",
      "val(nalu₊, interp₊) = 3754.957319221406 (tracked)\n",
      "val(nalu₊, extrap₊) = 362387.35815813474 (tracked)\n"
     ]
    }
   ],
   "source": [
    "do_experiment(-);"
   ]
  },
  {
   "cell_type": "markdown",
   "metadata": {},
   "source": [
    "## Multiplication"
   ]
  },
  {
   "cell_type": "code",
   "execution_count": 5,
   "metadata": {},
   "outputs": [
    {
     "name": "stdout",
     "output_type": "stream",
     "text": [
      "val(nac₊, interp₊) = 3.037412428562234e6 (tracked)\n",
      "val(nac₊, extrap₊) = 2.5410421143908295e10 (tracked)\n",
      "val(nalu₊, interp₊) = 3.036157077064866e6 (tracked)\n",
      "val(nalu₊, extrap₊) = 2.540994593343057e10 (tracked)\n"
     ]
    }
   ],
   "source": [
    "do_experiment(*);"
   ]
  },
  {
   "cell_type": "markdown",
   "metadata": {},
   "source": [
    "## Division"
   ]
  },
  {
   "cell_type": "code",
   "execution_count": 6,
   "metadata": {},
   "outputs": [
    {
     "name": "stdout",
     "output_type": "stream",
     "text": [
      "val(nac₊, interp₊) = 358.91951848286425 (tracked)\n",
      "val(nac₊, extrap₊) = 744.258729700709 (tracked)\n",
      "val(nalu₊, interp₊) = 2.6810934269898186e9 (tracked)\n",
      "val(nalu₊, extrap₊) = 3.6883944620812e14 (tracked)\n"
     ]
    }
   ],
   "source": [
    "do_experiment(/);"
   ]
  },
  {
   "cell_type": "code",
   "execution_count": null,
   "metadata": {},
   "outputs": [],
   "source": []
  }
 ],
 "metadata": {
  "kernelspec": {
   "display_name": "Julia 1.0.0",
   "language": "julia",
   "name": "julia-1.0"
  },
  "language_info": {
   "file_extension": ".jl",
   "mimetype": "application/julia",
   "name": "julia",
   "version": "1.0.0"
  }
 },
 "nbformat": 4,
 "nbformat_minor": 2
}
